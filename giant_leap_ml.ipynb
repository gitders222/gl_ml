{
  "nbformat": 4,
  "nbformat_minor": 0,
  "metadata": {
    "colab": {
      "provenance": [],
      "collapsed_sections": [],
      "authorship_tag": "ABX9TyM8WABJCNJ3tiUr1I1VjFn/",
      "include_colab_link": true
    },
    "kernelspec": {
      "name": "python3",
      "display_name": "Python 3"
    },
    "language_info": {
      "name": "python"
    },
    "accelerator": "GPU",
    "gpuClass": "standard"
  },
  "cells": [
    {
      "cell_type": "markdown",
      "metadata": {
        "id": "view-in-github",
        "colab_type": "text"
      },
      "source": [
        "<a href=\"https://colab.research.google.com/github/gitders222/gl_ml/blob/main/giant_leap_ml.ipynb\" target=\"_parent\"><img src=\"https://colab.research.google.com/assets/colab-badge.svg\" alt=\"Open In Colab\"/></a>"
      ]
    },
    {
      "cell_type": "markdown",
      "source": [
        "\n",
        "\n",
        "```\n",
        "GIANT LEAP TECH KODEOPPGAVE\n",
        "\n",
        "S.A. TORP\n",
        "\n",
        "(husk å laste opp .csv data)\n",
        "```\n",
        "\n"
      ],
      "metadata": {
        "id": "WwOIOvxFv-SS"
      }
    },
    {
      "cell_type": "code",
      "execution_count": null,
      "metadata": {
        "id": "B3cM2TArx_5c"
      },
      "outputs": [],
      "source": [
        "import numpy as np\n",
        "import matplotlib.pyplot as plt\n",
        "import pandas as pd\n",
        "\n",
        "from keras.models import Sequential\n",
        "from keras.layers import Dense, Activation, Dropout\n",
        "from tensorflow.keras.utils import to_categorical, plot_model"
      ]
    },
    {
      "cell_type": "code",
      "source": [
        "train_labels = pd.read_csv('train_labels.csv')\n",
        "train_data = pd.read_csv('train_data.csv')\n",
        "val_data = pd.read_csv('val_data.csv')\n",
        "val_labels = pd.read_csv('val_labels.csv')\n",
        "\n",
        "print(\"TD: \", train_data.shape)\n",
        "print(\"TL: \", train_labels.shape)\n",
        "print(\"VD: \", val_data.shape)\n",
        "print(\"VL: \", val_labels.shape)\n",
        "\n",
        "train_labels.value_counts().plot.bar(title='Label Count in taining data')"
      ],
      "metadata": {
        "colab": {
          "base_uri": "https://localhost:8080/",
          "height": 390
        },
        "id": "CmvmAWFKy_ko",
        "outputId": "fcb02e88-2ec6-4362-e758-51ad97a4689d"
      },
      "execution_count": null,
      "outputs": [
        {
          "output_type": "stream",
          "name": "stdout",
          "text": [
            "TD:  (5999, 784)\n",
            "TL:  (5999, 1)\n",
            "VD:  (999, 784)\n",
            "VL:  (999, 1)\n"
          ]
        },
        {
          "output_type": "execute_result",
          "data": {
            "text/plain": [
              "<matplotlib.axes._subplots.AxesSubplot at 0x7feb4c374190>"
            ]
          },
          "metadata": {},
          "execution_count": 4
        },
        {
          "output_type": "display_data",
          "data": {
            "text/plain": [
              "<Figure size 432x288 with 1 Axes>"
            ],
            "image/png": "[encoded data removed]"
          },
          "metadata": {
            "needs_background": "light"
          }
        }
      ]
    },
    {
      "cell_type": "code",
      "source": [
        "W = 28\n",
        "H = 28\n",
        "FROM = 0\n",
        "TO = 5\n",
        "\n",
        "#PLOT DATA SAMPLE\n",
        "for i in range(FROM,TO):\n",
        "  plt.subplot(350+1+i)\n",
        "  img = (np.array(train_data.iloc[i])).reshape(W,H)\n",
        "  plt.imshow(img, cmap=plt.get_cmap('gray'))\n",
        "  plt.title(str(train_labels.iloc[i,0]))\n",
        "plt.show()"
      ],
      "metadata": {
        "colab": {
          "base_uri": "https://localhost:8080/",
          "height": 122
        },
        "id": "1VoQC0j9gCzJ",
        "outputId": "2fa6300d-1827-48fb-e0c9-1a45ae79c6f1"
      },
      "execution_count": null,
      "outputs": [
        {
          "output_type": "display_data",
          "data": {
            "text/plain": [
              "<Figure size 432x288 with 5 Axes>"
            ],
            "image/png": "[encoded data removed]"
          },
          "metadata": {
            "needs_background": "light"
          }
        }
      ]
    },
    {
      "cell_type": "code",
      "source": [
        "#ONE HOT ENCODE DATA\n",
        "\n",
        "train_y = to_categorical(train_labels)\n",
        "val_y = to_categorical(val_labels)"
      ],
      "metadata": {
        "id": "QM2Lv0Yxk9Kf"
      },
      "execution_count": null,
      "outputs": []
    },
    {
      "cell_type": "code",
      "source": [
        "#NORMALIZE DATA\n",
        "\n",
        "train_data = train_data.astype('float32') / 255\n",
        "val_data = val_data.astype('float32') / 255"
      ],
      "metadata": {
        "id": "4v6PHIsuwXMQ"
      },
      "execution_count": null,
      "outputs": []
    },
    {
      "cell_type": "code",
      "source": [
        "#PARAMETERS\n",
        "\n",
        "batch_size = 128\n",
        "hidden_units = 256\n",
        "dropout = 0.45\n",
        "num_labels = 10\n",
        "\n",
        "image_size = train_data.shape[1]\n",
        "input_size = image_size"
      ],
      "metadata": {
        "id": "Z8x3fewWnQnF"
      },
      "execution_count": null,
      "outputs": []
    },
    {
      "cell_type": "code",
      "source": [
        "#DESIGN ARCHITECTURE\n",
        "\n",
        "model = Sequential()\n",
        "model.add(Dense(hidden_units, input_dim=input_size))\n",
        "model.add(Activation('relu'))\n",
        "model.add(Dropout(dropout))\n",
        "model.add(Dense(hidden_units))\n",
        "model.add(Activation('relu'))\n",
        "model.add(Dropout(dropout))\n",
        "model.add(Dense(num_labels))\n",
        "model.add(Activation('softmax'))\n",
        "\n",
        "model.summary()"
      ],
      "metadata": {
        "colab": {
          "base_uri": "https://localhost:8080/"
        },
        "id": "Wf84CJwLnKq4",
        "outputId": "5e883a7a-8eab-4037-b696-c063a8eec4cf"
      },
      "execution_count": null,
      "outputs": [
        {
          "output_type": "stream",
          "name": "stdout",
          "text": [
            "Model: \"sequential\"\n",
            "_________________________________________________________________\n",
            " Layer (type)                Output Shape              Param #   \n",
            "=================================================================\n",
            " dense (Dense)               (None, 256)               200960    \n",
            "                                                                 \n",
            " activation (Activation)     (None, 256)               0         \n",
            "                                                                 \n",
            " dropout (Dropout)           (None, 256)               0         \n",
            "                                                                 \n",
            " dense_1 (Dense)             (None, 256)               65792     \n",
            "                                                                 \n",
            " activation_1 (Activation)   (None, 256)               0         \n",
            "                                                                 \n",
            " dropout_1 (Dropout)         (None, 256)               0         \n",
            "                                                                 \n",
            " dense_2 (Dense)             (None, 10)                2570      \n",
            "                                                                 \n",
            " activation_2 (Activation)   (None, 10)                0         \n",
            "                                                                 \n",
            "=================================================================\n",
            "Total params: 269,322\n",
            "Trainable params: 269,322\n",
            "Non-trainable params: 0\n",
            "_________________________________________________________________\n"
          ]
        }
      ]
    },
    {
      "cell_type": "code",
      "source": [
        "model.compile(loss='categorical_crossentropy', \n",
        "              optimizer='adam',\n",
        "              metrics=['accuracy'])"
      ],
      "metadata": {
        "id": "gVXSADkulnq0"
      },
      "execution_count": null,
      "outputs": []
    },
    {
      "cell_type": "code",
      "source": [
        "history = model.fit(train_data, train_y, validation_split=0.1, epochs=20, batch_size=batch_size)"
      ],
      "metadata": {
        "colab": {
          "base_uri": "https://localhost:8080/"
        },
        "id": "mlT7Mr7bndOX",
        "outputId": "37302b13-3e0c-48da-83ab-81168f131484"
      },
      "execution_count": null,
      "outputs": [
        {
          "output_type": "stream",
          "name": "stdout",
          "text": [
            "Epoch 1/20\n",
            "43/43 [==============================] - 3s 8ms/step - loss: 1.3278 - accuracy: 0.5655 - val_loss: 0.4725 - val_accuracy: 0.8700\n",
            "Epoch 2/20\n",
            "43/43 [==============================] - 0s 4ms/step - loss: 0.5815 - accuracy: 0.8140 - val_loss: 0.3336 - val_accuracy: 0.9033\n",
            "Epoch 3/20\n",
            "43/43 [==============================] - 0s 4ms/step - loss: 0.4424 - accuracy: 0.8640 - val_loss: 0.2525 - val_accuracy: 0.9250\n",
            "Epoch 4/20\n",
            "43/43 [==============================] - 0s 4ms/step - loss: 0.3723 - accuracy: 0.8822 - val_loss: 0.2266 - val_accuracy: 0.9333\n",
            "Epoch 5/20\n",
            "43/43 [==============================] - 0s 4ms/step - loss: 0.3181 - accuracy: 0.9013 - val_loss: 0.2028 - val_accuracy: 0.9450\n",
            "Epoch 6/20\n",
            "43/43 [==============================] - 0s 4ms/step - loss: 0.2683 - accuracy: 0.9178 - val_loss: 0.1760 - val_accuracy: 0.9533\n",
            "Epoch 7/20\n",
            "43/43 [==============================] - 0s 4ms/step - loss: 0.2404 - accuracy: 0.9279 - val_loss: 0.1668 - val_accuracy: 0.9467\n",
            "Epoch 8/20\n",
            "43/43 [==============================] - 0s 4ms/step - loss: 0.2118 - accuracy: 0.9354 - val_loss: 0.1654 - val_accuracy: 0.9533\n",
            "Epoch 9/20\n",
            "43/43 [==============================] - 0s 4ms/step - loss: 0.1911 - accuracy: 0.9426 - val_loss: 0.1547 - val_accuracy: 0.9617\n",
            "Epoch 10/20\n",
            "43/43 [==============================] - 0s 4ms/step - loss: 0.1787 - accuracy: 0.9452 - val_loss: 0.1398 - val_accuracy: 0.9617\n",
            "Epoch 11/20\n",
            "43/43 [==============================] - 0s 4ms/step - loss: 0.1515 - accuracy: 0.9530 - val_loss: 0.1439 - val_accuracy: 0.9517\n",
            "Epoch 12/20\n",
            "43/43 [==============================] - 0s 4ms/step - loss: 0.1539 - accuracy: 0.9489 - val_loss: 0.1387 - val_accuracy: 0.9600\n",
            "Epoch 13/20\n",
            "43/43 [==============================] - 0s 4ms/step - loss: 0.1335 - accuracy: 0.9570 - val_loss: 0.1344 - val_accuracy: 0.9567\n",
            "Epoch 14/20\n",
            "43/43 [==============================] - 0s 4ms/step - loss: 0.1209 - accuracy: 0.9600 - val_loss: 0.1362 - val_accuracy: 0.9583\n",
            "Epoch 15/20\n",
            "43/43 [==============================] - 0s 4ms/step - loss: 0.1071 - accuracy: 0.9665 - val_loss: 0.1347 - val_accuracy: 0.9617\n",
            "Epoch 16/20\n",
            "43/43 [==============================] - 0s 4ms/step - loss: 0.1034 - accuracy: 0.9663 - val_loss: 0.1485 - val_accuracy: 0.9567\n",
            "Epoch 17/20\n",
            "43/43 [==============================] - 0s 4ms/step - loss: 0.0978 - accuracy: 0.9693 - val_loss: 0.1355 - val_accuracy: 0.9583\n",
            "Epoch 18/20\n",
            "43/43 [==============================] - 0s 4ms/step - loss: 0.0817 - accuracy: 0.9737 - val_loss: 0.1252 - val_accuracy: 0.9600\n",
            "Epoch 19/20\n",
            "43/43 [==============================] - 0s 4ms/step - loss: 0.0801 - accuracy: 0.9776 - val_loss: 0.1318 - val_accuracy: 0.9583\n",
            "Epoch 20/20\n",
            "43/43 [==============================] - 0s 4ms/step - loss: 0.0771 - accuracy: 0.9757 - val_loss: 0.1360 - val_accuracy: 0.9617\n"
          ]
        }
      ]
    },
    {
      "cell_type": "code",
      "source": [
        "loss, acc = model.evaluate(val_data, val_y, batch_size=batch_size)\n",
        "print(\"\\nTest accuracy: %.1f%%\" % (100.0 * acc))"
      ],
      "metadata": {
        "colab": {
          "base_uri": "https://localhost:8080/"
        },
        "id": "sau5UIP5nkNh",
        "outputId": "bb8094b3-cd3b-4aca-9898-b0960e9cb940"
      },
      "execution_count": null,
      "outputs": [
        {
          "output_type": "stream",
          "name": "stdout",
          "text": [
            "8/8 [==============================] - 0s 3ms/step - loss: 0.2279 - accuracy: 0.9379\n",
            "\n",
            "Test accuracy: 93.8%\n"
          ]
        }
      ]
    },
    {
      "cell_type": "code",
      "source": [
        "plt.subplot(3, 1, 1)\n",
        "plt.title('Cross Entropy Loss')\n",
        "plt.plot(history.history['loss'], color='blue', label='train')\n",
        "plt.plot(history.history['val_loss'], color='orange', label='test')\n",
        "# plot accuracy\n",
        "\n",
        "plt.subplot(3,1,2)\n",
        "plt.title('Classification Accuracy')\n",
        "plt.plot(history.history['accuracy'], color='blue', label='train')\n",
        "plt.plot(history.history['val_accuracy'], color='orange', label='test')\n",
        "\n",
        "plt.subplot(3,1,3)\n",
        "plt.title('Loss and Accuracy')\n",
        "plt.plot(history.history['accuracy'], color='blue', label='train acc')\n",
        "plt.plot(history.history['loss'], color='orange', label='train loss')\n",
        "\n",
        "print(\"\\nTest accuracy: %.1f%%\" % (100.0 * acc))"
      ],
      "metadata": {
        "colab": {
          "base_uri": "https://localhost:8080/",
          "height": 316
        },
        "id": "bvPedSi1siFy",
        "outputId": "0bf1bacf-0716-41f0-8c6c-5b894715cc8c"
      },
      "execution_count": null,
      "outputs": [
        {
          "output_type": "stream",
          "name": "stdout",
          "text": [
            "\n",
            "Test accuracy: 93.8%\n"
          ]
        },
        {
          "output_type": "display_data",
          "data": {
            "text/plain": [
              "<Figure size 432x288 with 3 Axes>"
            ],
            "image/png": "[encoded data removed]"
          },
          "metadata": {
            "needs_background": "light"
          }
        }
      ]
    }
  ]
}